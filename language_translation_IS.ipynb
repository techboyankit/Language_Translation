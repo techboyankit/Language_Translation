import string 
import re
from numpy import array, argmax, random, take
import pandas as pd
from keras.models import Sequential
from keras.layers import Dense, LSTM, Embedding, Bidirectional, RepeatVector, TimeDistributed
from keras.preprocessing import ModelCheckpoint
from keras.models import load_model
from keras import optimizers
import matplotlib.pyplot as plt
% matplotlib inline
pd.set_option('display.max_colwidth',200)

# First we will read the file using the function defined below.

def read_text(filename):
    # open the file
    file=open(filename, mode='rt', encoding='utf-8')
    
    # read all text
    text = file.read()
    file.close()
    return text
    
# Function to split the text into English-German pairs separated by '\n'and then split 
# these pairs into English and German

# split a text into sentences
def to_lines(text):
    sents=text.strip().split('\n')
    sents=[i.split('\t') for i in sents]
    return sents
    
data = read_text("/content/deu.txt")
deu_eng=to_lines(data)
deu_eng = array(deu_eng)

# first 50,000 sentences pairs will be the training set
deu_eng=deu_eng[:50000,:]

#Let's take a look at our data
deu_eng

    
